{
  "nbformat": 4,
  "nbformat_minor": 0,
  "metadata": {
    "colab": {
      "name": "task3.ipynb",
      "provenance": [],
      "collapsed_sections": []
    },
    "kernelspec": {
      "name": "python3",
      "display_name": "Python 3"
    },
    "language_info": {
      "name": "python"
    },
    "accelerator": "GPU"
  },
  "cells": [
    {
      "cell_type": "code",
      "execution_count": 8,
      "metadata": {
        "id": "a-fbcx4YzRYx"
      },
      "outputs": [],
      "source": [
        "import pandas as pd\n",
        "import collections"
      ]
    },
    {
      "cell_type": "code",
      "source": [
        "with open ('train_aspects.txt', encoding = 'UTF-8') as f:\n",
        "  lines = f.readlines()"
      ],
      "metadata": {
        "id": "H3c1VCqvNjqr"
      },
      "execution_count": 9,
      "outputs": []
    },
    {
      "cell_type": "code",
      "source": [
        "#читаем выход со второй задачи\n",
        "with open ('train_aspects.txt', encoding = 'UTF-8') as f:\n",
        "  lines = f.readlines()\n",
        "rows = []\n",
        "for i in lines:\n",
        "  s = i.split('\\t')\n",
        "  s[5]=s[5][:-1]\n",
        "  rows.append(s)\n",
        "df1 = pd.DataFrame(rows)\n",
        "#получаем список номеров отзывов по одному разу\n",
        "old_nums = df1[0].tolist()\n",
        "nums = []\n",
        "for old in old_nums:\n",
        "    if old not in nums:\n",
        "        nums.append(old)\n",
        "cats = ['Food', 'Interior', 'Price', 'Whole', 'Service']\n",
        "#считаем тональности по категориям\n",
        "import collections\n",
        "var_5 = []\n",
        "for num in nums:\n",
        "  df_cur  = df1[df1[0]==num]\n",
        "  for cat in cats:\n",
        "    df_current = df_cur[df_cur[1]==cat]\n",
        "    if df_current.shape[0] == 0:\n",
        "      if cat == 'Whole':\n",
        "        all_cats = df_cur[5].tolist()\n",
        "        all_cat_dict = collections.Counter(all_cats)\n",
        "        score = all_cat_dict['positive']-all_cat_dict['negative']\n",
        "        if (all_cat_dict['positive'] > 4) and (all_cat_dict['negative'] > 4):\n",
        "          var_5.append([num, cat, 'both'])\n",
        "        else:\n",
        "          if score > 0:\n",
        "            var_5.append([num, cat, 'positive'])\n",
        "          if score < 0:\n",
        "            var_5.append([num, cat, 'negative'])\n",
        "          if score == 0:\n",
        "            var_5.append([num, cat, 'both'])\n",
        "      else:\n",
        "        var_5.append([num, cat, 'absence'])\n",
        "    else:\n",
        "      cats_current = df_current[5].tolist()\n",
        "      cats_current.append(cats_current[0])\n",
        "      cat_dict = collections.Counter(cats_current)\n",
        "      score = cat_dict['positive']-cat_dict['negative']\n",
        "      if score > 0:\n",
        "        var_5.append([num, cat, 'positive'])\n",
        "      if score == 0:\n",
        "        var_5.append([num, cat, 'neutral'])\n",
        "      if score < 0:\n",
        "        var_5.append([num, cat, 'negative'])\n",
        "#записываем результат в файл\n",
        "with open('pred_cats.txt', 'w') as f:\n",
        "    for line in var_5:\n",
        "      string = line[0]+'\\t'+line[1]+'\\t'+line[2]+'\\n'\n",
        "      f.write(string)\n"
      ],
      "metadata": {
        "id": "BI0PNM2Hky_6"
      },
      "execution_count": 10,
      "outputs": []
    }
  ]
}